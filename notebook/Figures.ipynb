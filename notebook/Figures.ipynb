{
 "metadata": {
  "name": "",
  "signature": "sha256:5fd1cbc321516a41c1999415ce747cab12116761f803c440d41693d91f2c1a59"
 },
 "nbformat": 3,
 "nbformat_minor": 0,
 "worksheets": [
  {
   "cells": [
    {
     "cell_type": "code",
     "collapsed": false,
     "input": [
      "from __future__ import division\n",
      "import matplotlib.pyplot as plt\n",
      "import numpy as np\n",
      "from  scipy.stats import binom \n",
      "from pimad.models.toycontinuous import ToyContinuous\n",
      "from pimad.figures.convergence import *\n",
      "%matplotlib inline"
     ],
     "language": "python",
     "metadata": {},
     "outputs": [],
     "prompt_number": 11
    },
    {
     "cell_type": "heading",
     "level": 1,
     "metadata": {},
     "source": [
      "Fiugure 1: Group size distribution"
     ]
    },
    {
     "cell_type": "code",
     "collapsed": false,
     "input": [
      "    x = range(101)\n",
      "    z = 1/3\n",
      "    T = 100\n",
      "    y = analytical({\"m\":1/3,\"r\":1/3})\n",
      "    plt.plot(x,y,color=\"red\",label=\"$\\hat{z}_1=1/3$\",ls = \"steps\")\n",
      "    \n",
      "    ax = plt.gca()\n",
      "    ax.annotate(r'$1-\\hat{z}_1$', xy=(0,1-z),xycoords=\"data\", textcoords=\"offset points\",\n",
      "                xytext=(+40,0),\n",
      "                arrowprops=dict(arrowstyle=\"->\", connectionstyle=\"arc3,rad=.2\"))\n",
      "    z = 2/3\n",
      "    y = analytical({\"m\":2/3,\"r\":2/3})\n",
      "    plt.plot(x,y,color=\"blue\",label=\"$\\hat{z}_2=2/3$\",ls = \"steps\")\n",
      "    \n",
      "    \n",
      "    ax.annotate(r'$1-\\hat{z}_2$', xy=(0,1-z),xycoords=\"data\", textcoords=\"offset points\", xytext=(+40,0),\n",
      "                arrowprops=dict(arrowstyle=\"->\", connectionstyle=\"arc3,rad=.2\"))\n",
      "\n",
      "    ax.axis([-5,T,0,1-0.33+0.1])\n",
      "    ax.spines['right'].set_color(\"none\")\n",
      "    ax.spines['top'].set_color(\"none\")\n",
      "    ax.xaxis.set_ticks([1,T])\n",
      "    ax.set_xticklabels(['$1$','$T$'])\n",
      "    ax.yaxis.set_ticks([])\n",
      "    ax.xaxis.set_ticks_position('bottom')\n",
      "    ax.xaxis.set_label_coords(.45, -0.025)\n",
      "    ax.set_xlabel(\"Group size\")\n",
      "    ax.set_ylabel(\"Density\")\n",
      "    plt.legend()\n",
      "    plt.tight_layout()\n",
      "    plt.savefig(\"sizedistr.eps\")\n",
      "    "
     ],
     "language": "python",
     "metadata": {},
     "outputs": [
      {
       "metadata": {},
       "output_type": "display_data",
       "png": "[encoded data removed]",
       "text": [
        "<matplotlib.figure.Figure at 0x7fc378d6e5d0>"
       ]
      }
     ],
     "prompt_number": 10
    },
    {
     "cell_type": "heading",
     "level": 1,
     "metadata": {},
     "source": [
      "Figure : Altruism"
     ]
    },
    {
     "cell_type": "code",
     "collapsed": false,
     "input": [
      "def sigma(z,T):\n",
      "    s = 0\n",
      "    for n in range(2,T+1):\n",
      "        s += g(n,z+0.001,z,T)/n\n",
      "    return s\n"
     ],
     "language": "python",
     "metadata": {},
     "outputs": [],
     "prompt_number": 27
    },
    {
     "cell_type": "code",
     "collapsed": false,
     "input": [
      "T = 100\n",
      "z = np.arange(0.001,1.001,0.001)\n",
      "minz = 2.0/z\n",
      "maxz = [1/sigma(r,T) for r in z]"
     ],
     "language": "python",
     "metadata": {},
     "outputs": [],
     "prompt_number": 28
    },
    {
     "cell_type": "code",
     "collapsed": false,
     "input": [
      "plt.plot(z,minz, \"r\",label=\"$z_{min}$\")\n",
      "plt.plot(z,maxz, \"g\",label=\"$z_{max}$\")\n",
      "plt.hlines(T,*plt.xlim(),label=\"T\")\n",
      "\n",
      "plt.xlabel(\"z\")\n",
      "plt.ylabel(\"b/c\")\n",
      "plt.xlim((0,1))\n",
      "plt.ylim((0,200))\n",
      "plt.legend()\n",
      "\n",
      "plt.savefig(\"img/bifdiag_altruism.eps\")\n"
     ],
     "language": "python",
     "metadata": {},
     "outputs": [
      {
       "metadata": {},
       "output_type": "display_data",
       "png": "[encoded data removed]",
       "text": [
        "<matplotlib.figure.Figure at 0x7fc3789d2610>"
       ]
      }
     ],
     "prompt_number": 30
    },
    {
     "cell_type": "code",
     "collapsed": false,
     "input": [],
     "language": "python",
     "metadata": {},
     "outputs": []
    }
   ],
   "metadata": {}
  }
 ]
}