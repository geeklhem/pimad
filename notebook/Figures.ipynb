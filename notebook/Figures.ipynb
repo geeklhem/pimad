{
 "cells": [
  {
   "cell_type": "code",
   "execution_count": 1,
   "metadata": {
    "collapsed": false
   },
   "outputs": [],
   "source": [
    "from __future__ import division\n",
    "import matplotlib.pyplot as plt\n",
    "import numpy as np\n",
    "from  scipy.stats import binom \n",
    "from pimad.models.toycontinuous import ToyContinuous\n",
    "from pimad.figures.convergence import *\n",
    "%matplotlib inline"
   ]
  },
  {
   "cell_type": "markdown",
   "metadata": {},
   "source": [
    "# Group size distribution"
   ]
  },
  {
   "cell_type": "code",
   "execution_count": 10,
   "metadata": {
    "collapsed": false
   },
   "outputs": [
    {
     "data": {
      "image/png": "[encoded data removed]",
      "text/plain": [
       "<matplotlib.figure.Figure at 0x7fc378d6e5d0>"
      ]
     },
     "metadata": {},
     "output_type": "display_data"
    }
   ],
   "source": [
    "x = range(101)\n",
    "z = 1/3\n",
    "T = 100\n",
    "y = analytical({\"m\":1/3,\"r\":1/3})\n",
    "plt.plot(x,y,color=\"red\",label=\"$\\hat{z}_1=1/3$\",ls = \"steps\")\n",
    "\n",
    "ax = plt.gca()\n",
    "ax.annotate(r'$1-\\hat{z}_1$', xy=(0,1-z),xycoords=\"data\", textcoords=\"offset points\",\n",
    "            xytext=(+40,0),\n",
    "            arrowprops=dict(arrowstyle=\"->\", connectionstyle=\"arc3,rad=.2\"))\n",
    "z = 2/3\n",
    "y = analytical({\"m\":2/3,\"r\":2/3})\n",
    "plt.plot(x,y,color=\"blue\",label=\"$\\hat{z}_2=2/3$\",ls = \"steps\")\n",
    "\n",
    "\n",
    "ax.annotate(r'$1-\\hat{z}_2$', xy=(0,1-z),xycoords=\"data\", textcoords=\"offset points\", xytext=(+40,0),\n",
    "            arrowprops=dict(arrowstyle=\"->\", connectionstyle=\"arc3,rad=.2\"))\n",
    "\n",
    "ax.axis([-5,T,0,1-0.33+0.1])\n",
    "ax.spines['right'].set_color(\"none\")\n",
    "ax.spines['top'].set_color(\"none\")\n",
    "ax.xaxis.set_ticks([1,T])\n",
    "ax.set_xticklabels(['$1$','$T$'])\n",
    "ax.yaxis.set_ticks([])\n",
    "ax.xaxis.set_ticks_position('bottom')\n",
    "ax.xaxis.set_label_coords(.45, -0.025)\n",
    "ax.set_xlabel(\"Group size\")\n",
    "ax.set_ylabel(\"Density\")\n",
    "plt.legend()\n",
    "plt.tight_layout()\n",
    "plt.savefig(\"sizedistr.eps\")\n"
   ]
  },
  {
   "cell_type": "markdown",
   "metadata": {},
   "source": [
    "# Altruism"
   ]
  },
  {
   "cell_type": "code",
   "execution_count": null,
   "metadata": {
    "collapsed": false
   },
   "outputs": [],
   "source": [
    "def sigma(z,T):\n",
    "    s = 0\n",
    "    for n in range(2,T+1):\n",
    "        s += g(n,z+0.001,z,T)/n\n",
    "    return s\n",
    "\n",
    "T = 100\n",
    "z = np.arange(0.001,1.001,0.001)\n",
    "minz = 2.0/z\n",
    "maxz = [1/sigma(r,T) for r in z]"
   ]
  },
  {
   "cell_type": "code",
   "execution_count": 96,
   "metadata": {
    "collapsed": false
   },
   "outputs": [
    {
     "data": {
      "text/plain": [
       "<matplotlib.legend.Legend at 0x7f8dc82f7d10>"
      ]
     },
     "execution_count": 96,
     "metadata": {},
     "output_type": "execute_result"
    },
    {
     "data": {
      "image/png": "[encoded data removed]",
      "text/plain": [
       "<matplotlib.figure.Figure at 0x7f8dc82c7a90>"
      ]
     },
     "metadata": {},
     "output_type": "display_data"
    }
   ],
   "source": [
    "plt.plot(z,minz, \"r\",label=\"$z_{min}$\")\n",
    "plt.plot(z,maxz, \"g\",label=\"$z_{max}$\")\n",
    "plt.hlines(T,*plt.xlim())\n",
    "plt.hlines(2,*plt.xlim())\n",
    "\n",
    "ax = plt.gca()\n",
    "ax.semilogy()\n",
    "plt.xlabel(\"z\")\n",
    "plt.ylabel(\"b/c\")\n",
    "plt.xlim((0,1))\n",
    "plt.ylim((0,1000))\n",
    "plt.yticks([1,2,10,100,1000],[1,2,10,\"T=100\",1000])\n",
    "plt.legend()"
   ]
  }
 ],
 "metadata": {
  "kernelspec": {
   "display_name": "Python 3",
   "language": "python",
   "name": "python3"
  },
  "language_info": {
   "codemirror_mode": {
    "name": "ipython",
    "version": 3
   },
   "file_extension": ".py",
   "mimetype": "text/x-python",
   "name": "python",
   "nbconvert_exporter": "python",
   "pygments_lexer": "ipython3",
   "version": "3.4.2"
  }
 },
 "nbformat": 4,
 "nbformat_minor": 0
}
