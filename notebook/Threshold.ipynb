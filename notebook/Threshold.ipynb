{
 "cells": [
  {
   "cell_type": "markdown",
   "metadata": {},
   "source": [
    "# Plotting invasion threshold for various b/c ratio\n",
    "\n",
    "The threshold value for social invasion is given by solving the following equation (eq. 1) for $z$:\n",
    "\n",
    "\\begin{equation}\n",
    "  0= b z h(z) + b\\sum_{n \\geq 2}{\\frac{1}{n}g(n,z,z)} - c\n",
    "\\end{equation}\n",
    "\n",
    "For differential attachment $h(z) = 0.5$ (eq. 6).\n",
    "\n",
    "\\begin{equation}\n",
    "  \\frac{c}{b} = \\frac{1}{2} z + \\sum_{n \\geq 2}{\\frac{1}{n}g(n,z,z)} \n",
    "\\end{equation}\n",
    "\n",
    "Moreover the second term is given by (eq. 20): \n",
    "\n",
    "\\begin{equation}\n",
    "  \\sum_{n=2}^T{\\frac{1}{n} g(n,z,z)} = \\frac{Tz-1+(1-z)^T}{z (T-1)T}\n",
    "\\end{equation}\n",
    "\n",
    "which tends to $0$ when $T\\longrightarrow +\\infty$.\n",
    "\n",
    "Hence:\n",
    "\n",
    "\\begin{equation}\n",
    "  \\frac{b}{c} =  z + 2 \\frac{Tz-1+(1-z)^T}{z (T-1)T}\n",
    "\\end{equation}"
   ]
  },
  {
   "cell_type": "code",
   "execution_count": 43,
   "metadata": {
    "collapsed": false
   },
   "outputs": [
    {
     "ename": "SyntaxError",
     "evalue": "invalid syntax (<ipython-input-43-a23557e65103>, line 5)",
     "output_type": "error",
     "traceback": [
      "\u001b[1;36m  File \u001b[1;32m\"<ipython-input-43-a23557e65103>\"\u001b[1;36m, line \u001b[1;32m5\u001b[0m\n\u001b[1;33m    matplotlib.rcParams.update({'font.size': 2)})\u001b[0m\n\u001b[1;37m                                              ^\u001b[0m\n\u001b[1;31mSyntaxError\u001b[0m\u001b[1;31m:\u001b[0m invalid syntax\n"
     ]
    }
   ],
   "source": [
    "%pylab inline\n",
    "import pickle\n",
    "import codecs\n",
    "plt.figure(figsize=(12,5))\n",
    "matplotlib.rcParams.update({'font.size': 20})\n",
    "\n",
    "\n",
    "def bc(Z,T):\n",
    "    \"\"\" Return the benefit-to-cost ratio threshold for an invasion by more social mutants\n",
    "    in an infinite population periodically segemented in T-sized patches\n",
    "        \n",
    "    Arguments:\n",
    "        Z (float in [0,1] or infinite): Resident social trait value. \n",
    "        T (integer): Patch size.\n",
    "    \"\"\"\n",
    "    if T == np.inf:\n",
    "        return 2.0/Z\n",
    "    else:\n",
    "        return 2.0/( 2*((T*Z - 1 + (1-Z)**T) / (Z*(T-1)*T) ) + Z)\n",
    "    \n",
    "# Loading simulations results (produced with make threshold)\n",
    "with codecs.open('threshold_kmax10_2T_14b_50times_g100_50repl.pkle','rb') as f:\n",
    "    data,parameters = pickle.Unpickler(f,fix_imports=True,encoding='bytes').load()\n",
    "\n",
    "z = np.arange(0.001,1.001,0.001)\n",
    "theo = 2.0/z\n",
    "\n",
    "colorcode = {20:'b',100:'r'}\n",
    "\n",
    "\n",
    "plt.plot(bc(z,20),z, color=colorcode[20],label=\"$T = 20$\")\n",
    "plt.plot(bc(z,100),z, color=colorcode[100],label=\"$T = 100$\")\n",
    "plt.plot(bc(z,np.inf),z, color=\"k\",label=\"$T \\longrightarrow + \\infty $: $z^* = 2c/b$\")\n",
    "\n",
    "for T,values in data.items():\n",
    "    values = np.array(values)\n",
    "    for i in range(int(len(values)/50)):\n",
    "        y = np.mean(values[i*50:(i+1)*50,0])\n",
    "        yerr =  np.std(values[i*50:(i+1)*50,0])\n",
    "        x = values[i*50,1]\n",
    "        assert np.all(values[i*50:(i+1)*50,1]==x)\n",
    "        plt.errorbar(x,y,yerr,color=colorcode[T],fmt='.')\n",
    "\n",
    "\n",
    "plt.legend()\n",
    "plt.ylabel(\"$z^*$\")\n",
    "plt.xlabel(\"$b/c$\")\n",
    "plt.ylim((0,1))\n",
    "plt.xlim((0,50))\n",
    "plt.savefig(\"threshold.eps\",bbox_inches=\"tight\")"
   ]
  },
  {
   "cell_type": "code",
   "execution_count": 39,
   "metadata": {
    "collapsed": false
   },
   "outputs": [
    {
     "data": {
      "text/plain": [
       "{b'T_range': [20, 100],\n",
       " b'alpha': 0.75,\n",
       " b'b_range': [3, 4, 5, 6, 7, 8, 9, 10, 15, 20, 25, 30, 35, 40],\n",
       " b'c': 1,\n",
       " b'chi': 4,\n",
       " b'dz': 0.01,\n",
       " b'g': 100,\n",
       " b'host': b'Linux|apis|3.2.0-79-generic|#115-Ubuntu SMP Thu Mar 12 14:18:19 UTC 2015|x86_64|x86_64',\n",
       " b'invfitness_g': 10,\n",
       " b'ip': 0.01,\n",
       " b'k': 0.3,\n",
       " b'kmax': 10,\n",
       " b'lk_R': 1000,\n",
       " b'mu': 0,\n",
       " b'n': 5000,\n",
       " b'precision': 0.01,\n",
       " b'range_g': [10, 50, 100, 200],\n",
       " b'range_ip': [0.001, 0.005, 0.01, 0.05, 0.1],\n",
       " b'replica': 50,\n",
       " b's': 0.1,\n",
       " b'thres_r': 50,\n",
       " b'time': b'Thu Sep 17 23:10:49 2015'}"
      ]
     },
     "execution_count": 39,
     "metadata": {},
     "output_type": "execute_result"
    }
   ],
   "source": [
    "parameters"
   ]
  }
 ],
 "metadata": {
  "kernelspec": {
   "display_name": "Python 3",
   "language": "python",
   "name": "python3"
  },
  "language_info": {
   "codemirror_mode": {
    "name": "ipython",
    "version": 3
   },
   "file_extension": ".py",
   "mimetype": "text/x-python",
   "name": "python",
   "nbconvert_exporter": "python",
   "pygments_lexer": "ipython3",
   "version": "3.4.2"
  }
 },
 "nbformat": 4,
 "nbformat_minor": 0
}
